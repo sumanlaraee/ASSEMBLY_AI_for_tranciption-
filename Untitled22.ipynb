{
  "nbformat": 4,
  "nbformat_minor": 0,
  "metadata": {
    "colab": {
      "provenance": [],
      "gpuType": "T4",
      "authorship_tag": "ABX9TyO8rItf13IJqC0LqN2sS6MQ",
      "include_colab_link": true
    },
    "kernelspec": {
      "name": "python3",
      "display_name": "Python 3"
    },
    "language_info": {
      "name": "python"
    },
    "accelerator": "GPU"
  },
  "cells": [
    {
      "cell_type": "markdown",
      "metadata": {
        "id": "view-in-github",
        "colab_type": "text"
      },
      "source": [
        "<a href=\"https://colab.research.google.com/github/sumanlaraee/ASSEMBLY_AI_for_tranciption-/blob/main/Untitled22.ipynb\" target=\"_parent\"><img src=\"https://colab.research.google.com/assets/colab-badge.svg\" alt=\"Open In Colab\"/></a>"
      ]
    },
    {
      "cell_type": "code",
      "execution_count": 3,
      "metadata": {
        "colab": {
          "base_uri": "https://localhost:8080/"
        },
        "id": "VxlugjiSexGB",
        "outputId": "3553bf61-f8d3-4da0-ecc4-508268cb6824"
      },
      "outputs": [
        {
          "output_type": "stream",
          "name": "stdout",
          "text": [
            "Transcript Text: Top line presentations. So any questions anything in and and quite honestly, if whatever people need to understand if they want to improve this these presentations in whichever way or form please this is a good time to have that discussion. Anybody would like to be able to so what we can do is customer acquisition. How many customers added? Not about links, not about any other deployments, but how many new new customers? What is the upsell? You know, existing customer upsell. Now up your revenue contribution Can.\n"
          ]
        }
      ],
      "source": [
        "# Install the requests package by executing the command \"pip install requests\"\n",
        "\n",
        "import requests\n",
        "import time\n",
        "\n",
        "base_url = \"https://api.assemblyai.com\"\n",
        "\n",
        "headers = {\n",
        "    \"authorization\": \"c646e1ef51e44c94a2310439d0cea8cd\"\n",
        "}\n",
        "# You can upload a local file using the following code\n",
        "with open(\"/content/output_1min.wav\", \"rb\") as f:\n",
        "  response = requests.post(base_url + \"/v2/upload\",\n",
        "                          headers=headers,\n",
        "                          data=f)\n",
        "\n",
        "audio_url = response.json()[\"upload_url\"]\n",
        "\n",
        "#audio_url = \"https://assembly.ai/wildfires.mp3\"\n",
        "\n",
        "\n",
        "data = {\n",
        "    \"audio_url\": audio_url,\n",
        "    \"speech_model\": \"universal\"\n",
        "}\n",
        "\n",
        "url = base_url + \"/v2/transcript\"\n",
        "response = requests.post(url, json=data, headers=headers)\n",
        "\n",
        "transcript_id = response.json()['id']\n",
        "polling_endpoint = base_url + \"/v2/transcript/\" + transcript_id\n",
        "\n",
        "while True:\n",
        "  transcription_result = requests.get(polling_endpoint, headers=headers).json()\n",
        "  transcript_text = transcription_result['text']\n",
        "\n",
        "  if transcription_result['status'] == 'completed':\n",
        "    print(f\"Transcript Text:\", transcript_text)\n",
        "    break\n",
        "\n",
        "  elif transcription_result['status'] == 'error':\n",
        "    raise RuntimeError(f\"Transcription failed: {transcription_result['error']}\")\n",
        "\n",
        "  else:\n",
        "    time.sleep(3)"
      ]
    }
  ]
}